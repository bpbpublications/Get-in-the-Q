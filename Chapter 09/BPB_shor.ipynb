{
 "cells": [
  {
   "cell_type": "code",
   "execution_count": 7,
   "id": "0a122766",
   "metadata": {},
   "outputs": [],
   "source": [
    "from qiskit import IBMQ, Aer, assemble, execute\n",
    "from qiskit.utils import QuantumInstance\n",
    "from qiskit.algorithms import Shor\n",
    "from time import time"
   ]
  },
  {
   "cell_type": "markdown",
   "id": "df769cde",
   "metadata": {},
   "source": [
    "## On Simulator"
   ]
  },
  {
   "cell_type": "code",
   "execution_count": 8,
   "id": "6b9a71b4",
   "metadata": {},
   "outputs": [],
   "source": [
    "backend = Aer.get_backend('qasm_simulator')"
   ]
  },
  {
   "cell_type": "code",
   "execution_count": 9,
   "id": "5ae2b6fc",
   "metadata": {},
   "outputs": [],
   "source": [
    "factors = Shor(QuantumInstance(backend, shots=10, skip_qobj_validation=False)) "
   ]
  },
  {
   "cell_type": "code",
   "execution_count": 13,
   "id": "494e5406",
   "metadata": {},
   "outputs": [],
   "source": [
    "number = 21"
   ]
  },
  {
   "cell_type": "code",
   "execution_count": 14,
   "id": "10c81005",
   "metadata": {},
   "outputs": [
    {
     "name": "stdout",
     "output_type": "stream",
     "text": [
      "time = 32.55547475814819\n"
     ]
    }
   ],
   "source": [
    "st = time()\n",
    "result_dict = factors.factor(N=number, a=11) # Where N is the integer to be factored\n",
    "result = result_dict.factors\n",
    "print(f'time = {time() - st}')"
   ]
  },
  {
   "cell_type": "code",
   "execution_count": 15,
   "id": "10e3d5e6",
   "metadata": {},
   "outputs": [
    {
     "name": "stdout",
     "output_type": "stream",
     "text": [
      "[[3, 7]]\n"
     ]
    }
   ],
   "source": [
    "print(result)"
   ]
  },
  {
   "cell_type": "code",
   "execution_count": null,
   "id": "3e4f2d27",
   "metadata": {},
   "outputs": [],
   "source": []
  },
  {
   "cell_type": "markdown",
   "id": "a11d9fb3",
   "metadata": {},
   "source": [
    "## On Real IBM quantum device"
   ]
  },
  {
   "cell_type": "code",
   "execution_count": null,
   "id": "c61da311",
   "metadata": {},
   "outputs": [],
   "source": [
    "# Enable your IBM Quantum account using your unique API key. This can \n",
    "# be obtained by signing up in IBM Q cloud.\n",
    "# IBM key is sensitive information and should not be shared.\n",
    "IBMQ.enable_account('# Enter your IBM API key here’) \n",
    "# Retrieve the IBM Quantum provider associated with the specified hub\n",
    "provider = IBMQ.get_provider(hub='ibm-q')\n",
    "# Specify the quantum backend (device) to be used from the provider\n",
    "# Specifies the quantum device\n",
    "backend = provider.get_backend('ibm_osaka')"
   ]
  },
  {
   "cell_type": "code",
   "execution_count": null,
   "id": "5f410528",
   "metadata": {},
   "outputs": [],
   "source": [
    "# Note that qiskit has a readymade library for Shor factorization\n",
    "# that creates a Shor's algorithm instance using the specified \n",
    "# quantum backend. The algorithm will execute 10 times.\n",
    "factors = Shor(QuantumInstance(backend, shots=10, skip_qobj_validation=False))"
   ]
  },
  {
   "cell_type": "code",
   "execution_count": null,
   "id": "a87dc088",
   "metadata": {},
   "outputs": [],
   "source": [
    "number = 15"
   ]
  },
  {
   "cell_type": "code",
   "execution_count": null,
   "id": "4940c937",
   "metadata": {},
   "outputs": [],
   "source": [
    "# Factor the number using Shor's algorithm with a \n",
    "# specified value of 'a'\n",
    "result_dict = factors.factor(N=number, a=11)\n",
    "# Extract the factors from the result dictionary\n",
    "result = result_dict.factors"
   ]
  },
  {
   "cell_type": "code",
   "execution_count": null,
   "id": "e75805c4",
   "metadata": {},
   "outputs": [],
   "source": [
    "print(result)"
   ]
  }
 ],
 "metadata": {
  "kernelspec": {
   "display_name": "Python 3 (ipykernel)",
   "language": "python",
   "name": "python3"
  },
  "language_info": {
   "codemirror_mode": {
    "name": "ipython",
    "version": 3
   },
   "file_extension": ".py",
   "mimetype": "text/x-python",
   "name": "python",
   "nbconvert_exporter": "python",
   "pygments_lexer": "ipython3",
   "version": "3.9.16"
  }
 },
 "nbformat": 4,
 "nbformat_minor": 5
}
