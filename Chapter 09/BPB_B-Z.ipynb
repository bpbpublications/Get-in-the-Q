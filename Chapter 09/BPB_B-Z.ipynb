{
 "cells": [
  {
   "cell_type": "markdown",
   "id": "289dc5e8",
   "metadata": {},
   "source": [
    "## Bernstein–Vazirani algorithm"
   ]
  },
  {
   "cell_type": "code",
   "execution_count": 1,
   "id": "cdc32a68",
   "metadata": {},
   "outputs": [],
   "source": [
    "# initialization\n",
    "from random import randint\n",
    "# importing Qiskit\n",
    "from qiskit import IBMQ, Aer\n",
    "from qiskit.providers.ibmq import least_busy\n",
    "from qiskit import QuantumCircuit, transpile, assemble\n",
    "# import basic plot tools\n",
    "from qiskit.visualization import plot_histogram"
   ]
  },
  {
   "cell_type": "code",
   "execution_count": 2,
   "id": "12b5f0a9",
   "metadata": {},
   "outputs": [
    {
     "name": "stdout",
     "output_type": "stream",
     "text": [
      "0101\n"
     ]
    }
   ],
   "source": [
    "# Number of qubits used to represent the binary string s\n",
    "n = 4 # number of qubits used to represent s\n",
    "# Generate a random integer between 0 and 2^n - 1 (inclusive) to \n",
    "# represent the hidden binary string\n",
    "s = randint(0, 2**n - 1)   # the hidden binary string\n",
    "# Format the integer s as a binary string with n bits, padding with \n",
    "# leading zeros if necessary\n",
    "s = format(s, '0'+str(n)+'b')\n",
    "print(s)"
   ]
  },
  {
   "cell_type": "code",
   "execution_count": 3,
   "id": "aebec485",
   "metadata": {},
   "outputs": [],
   "source": [
    "# We need a circuit with n qubits, plus one auxiliary qubit\n",
    "# Also need n classical bits to write the output to.\n",
    "bv_circuit = QuantumCircuit(n+1, n)\n",
    "# Put ancilla qubit in a superposition state |->\n",
    "bv_circuit.h(n)\n",
    "bv_circuit.z(n)\n",
    "# Apply Hadamard gates before querying the oracle\n",
    "for i in range(n):\n",
    "    bv_circuit.h(i)    \n",
    "# Apply barrier to visually separate sections of the circuit\n",
    "bv_circuit.barrier()\n",
    "# Apply the oracle\n",
    "# Below line of code performs bit reversal to adjust for Qiskit's \n",
    "# qubit ordering, which is in reverse order from the classical left-\n",
    "# to-right representation. This ensures that the qubit states are \n",
    "# correctly aligned with Qiskit's indexing.\n",
    "s = s[::-1] # reverse s to fit qiskit's qubit ordering\n",
    "for q in range(n):\n",
    "    if s[q] == '0':\n",
    "        bv_circuit.i(q)\n",
    "    else:\n",
    "        bv_circuit.cx(q, n)        \n",
    "# Apply barrier to visually separate sections of the circuit\n",
    "bv_circuit.barrier()\n",
    "# Apply Hadamard gates after querying the oracle\n",
    "for i in range(n):\n",
    "    bv_circuit.h(i)\n",
    "# Measurement\n",
    "for i in range(n):\n",
    "    bv_circuit.measure(i, i)"
   ]
  },
  {
   "cell_type": "code",
   "execution_count": null,
   "id": "99bab50f",
   "metadata": {},
   "outputs": [],
   "source": []
  },
  {
   "cell_type": "markdown",
   "id": "2f160729",
   "metadata": {},
   "source": [
    "## On Simulator"
   ]
  },
  {
   "cell_type": "code",
   "execution_count": 4,
   "id": "ef32fe9a",
   "metadata": {},
   "outputs": [],
   "source": [
    "sim = Aer.get_backend('aer_simulator')\n",
    "# we need to mMake a copy of the circuit with the 'save_statevector'\n",
    "# instruction to run on the Aer simulator\n",
    "bv_circuit_sim = bv_circuit.copy()\n",
    "bv_circuit_sim.save_statevector()\n",
    "qobj = assemble(bv_circuit_sim)"
   ]
  },
  {
   "cell_type": "code",
   "execution_count": 5,
   "id": "264786a6",
   "metadata": {},
   "outputs": [],
   "source": [
    "result = sim.run(qobj).result()"
   ]
  },
  {
   "cell_type": "code",
   "execution_count": 6,
   "id": "1a0e8e81",
   "metadata": {
    "scrolled": true
   },
   "outputs": [
    {
     "data": {
      "image/png": "[encoded data removed]",
      "text/plain": [
       "<Figure size 700x500 with 1 Axes>"
      ]
     },
     "execution_count": 6,
     "metadata": {},
     "output_type": "execute_result"
    }
   ],
   "source": [
    "counts = result.get_counts()\n",
    "plot_histogram(counts)"
   ]
  },
  {
   "cell_type": "code",
   "execution_count": null,
   "id": "f4adb748",
   "metadata": {},
   "outputs": [],
   "source": []
  },
  {
   "cell_type": "markdown",
   "id": "ca0ecf4e",
   "metadata": {},
   "source": [
    "## On Real IBM quantum device"
   ]
  },
  {
   "cell_type": "code",
   "execution_count": null,
   "id": "93655add",
   "metadata": {},
   "outputs": [],
   "source": [
    "# Load the IBM Quantum account for access to the available resources\n",
    "IBMQ.load_account()\n",
    "# Retrieve the IBM Quantum provider for the specified hub\n",
    "provider = IBMQ.get_provider(hub='ibm-q')\n",
    "# Find the least busy backend that can accommodate the required \n",
    "# number of qubits (n+1)\n",
    "backend = least_busy(provider.backends(filters=lambda x:   \n",
    "    x.configuration().n_qubits >= (n+1) and\n",
    "    not x.configuration().simulator and \n",
    "    x.status().operational==True))\n",
    "print(\"least busy backend: \", backend)"
   ]
  },
  {
   "cell_type": "code",
   "execution_count": null,
   "id": "c283ec1d",
   "metadata": {},
   "outputs": [],
   "source": [
    "# Run our circuit on the least busy backend. Monitor the execution of \n",
    "# the job in the queue\n",
    "from qiskit.tools.monitor import job_monitor\n",
    "# Define the number of times circuit will be run\n",
    "shots = 1024\n",
    "# Transpile the circuit for the specified backend with the highest \n",
    "# optimization level\n",
    "transpiled_bv_circuit = transpile(bv_circuit, backend)\n",
    "# Execute the transpiled circuit on the backend\n",
    "job = backend.run(transpiled_bv_circuit, shots=shots)\n",
    "# Monitor the job status at 2-second intervals\n",
    "job_monitor(job, interval=2)"
   ]
  },
  {
   "cell_type": "code",
   "execution_count": null,
   "id": "cbe7770b",
   "metadata": {},
   "outputs": [],
   "source": [
    "# Get the results of the computation\n",
    "results = job.result()\n",
    "# Retrieve the counts of measurement outcomes\n",
    "answer = results.get_counts()\n",
    "# Plot a histogram of the measurement results\n",
    "plot_histogram(answer)"
   ]
  }
 ],
 "metadata": {
  "kernelspec": {
   "display_name": "Python 3 (ipykernel)",
   "language": "python",
   "name": "python3"
  },
  "language_info": {
   "codemirror_mode": {
    "name": "ipython",
    "version": 3
   },
   "file_extension": ".py",
   "mimetype": "text/x-python",
   "name": "python",
   "nbconvert_exporter": "python",
   "pygments_lexer": "ipython3",
   "version": "3.9.16"
  },
  "widgets": {
   "application/vnd.jupyter.widget-state+json": {
    "state": {
     "058bbe06d33e408dbf44ee2994944e9b": {
      "model_module": "@jupyter-widgets/controls",
      "model_module_version": "1.5.0",
      "model_name": "ButtonModel",
      "state": {
       "description": "Oracle",
       "layout": "IPY_MODEL_9402e64dd07f43a09b7db9d793f00849",
       "style": "IPY_MODEL_18993334698949e9bc07e2cb4310dcf2"
      }
     },
     "0b9a899f9d874edeb53c590e680b5ac9": {
      "model_module": "@jupyter-widgets/controls",
      "model_module_version": "1.5.0",
      "model_name": "ButtonStyleModel",
      "state": {}
     },
     "0bcf5e73535649aab44ce71325bfe8b8": {
      "model_module": "@jupyter-widgets/controls",
      "model_module_version": "1.5.0",
      "model_name": "ButtonModel",
      "state": {
       "description": "H⊗ⁿ",
       "layout": "IPY_MODEL_efda6d1858bf44dc97e02f650adce5bd",
       "style": "IPY_MODEL_0b9a899f9d874edeb53c590e680b5ac9"
      }
     },
     "10222059775b45cbb463ac9a5579b2ed": {
      "model_module": "@jupyter-widgets/controls",
      "model_module_version": "1.5.0",
      "model_name": "ButtonModel",
      "state": {
       "description": "H⊗ⁿ",
       "layout": "IPY_MODEL_b8d348e477cc45469fde8cb2fea8cf4b",
       "style": "IPY_MODEL_4e32b3e6011d45449dda6012ed3b3759"
      }
     },
     "1461d7888f9c45a48e70b98db9c6f2b8": {
      "model_module": "@jupyter-widgets/controls",
      "model_module_version": "1.5.0",
      "model_name": "HBoxModel",
      "state": {
       "children": [
        "IPY_MODEL_ce6c2c5dd63e438bb2bd3a9f2db9d263",
        "IPY_MODEL_5016cec40ce14314b318702be4e01814",
        "IPY_MODEL_abf8347e870f4f618df66cffc9fa16b4"
       ],
       "layout": "IPY_MODEL_6025029d1745481fb904483595f24c5d"
      }
     },
     "18993334698949e9bc07e2cb4310dcf2": {
      "model_module": "@jupyter-widgets/controls",
      "model_module_version": "1.5.0",
      "model_name": "ButtonStyleModel",
      "state": {}
     },
     "1afc7a2e2ddf4a3eb07a401a57521a17": {
      "model_module": "@jupyter-widgets/controls",
      "model_module_version": "1.5.0",
      "model_name": "DescriptionStyleModel",
      "state": {
       "description_width": ""
      }
     },
     "26d77f01d8ac4a5893f8140d72c723ae": {
      "model_module": "@jupyter-widgets/base",
      "model_module_version": "1.2.0",
      "model_name": "LayoutModel",
      "state": {}
     },
     "3205d9a912084984ba0c8cd353236ff2": {
      "model_module": "@jupyter-widgets/controls",
      "model_module_version": "1.5.0",
      "model_name": "ButtonModel",
      "state": {
       "description": "H⊗ⁿ",
       "layout": "IPY_MODEL_37ee1f4645e2455a90d083031cbe0fdc",
       "style": "IPY_MODEL_6e452fe7f5fc48b7b38cb0737fc79a2e"
      }
     },
     "32af37e4c90f41d6939c6b257b21a711": {
      "model_module": "@jupyter-widgets/base",
      "model_module_version": "1.2.0",
      "model_name": "LayoutModel",
      "state": {}
     },
     "3507733203674f69ae9eb6b0ec0d56ea": {
      "model_module": "@jupyter-widgets/base",
      "model_module_version": "1.2.0",
      "model_name": "LayoutModel",
      "state": {}
     },
     "37ee1f4645e2455a90d083031cbe0fdc": {
      "model_module": "@jupyter-widgets/base",
      "model_module_version": "1.2.0",
      "model_name": "LayoutModel",
      "state": {}
     },
     "40135b052efc4a77b1bee9a4535cea66": {
      "model_module": "@jupyter-widgets/base",
      "model_module_version": "1.2.0",
      "model_name": "LayoutModel",
      "state": {}
     },
     "47fb7a3222604dc79f5f4005a7ea557c": {
      "model_module": "@jupyter-widgets/controls",
      "model_module_version": "1.5.0",
      "model_name": "ButtonModel",
      "state": {
       "description": "Oracle",
       "layout": "IPY_MODEL_26d77f01d8ac4a5893f8140d72c723ae",
       "style": "IPY_MODEL_bc6a7a1cf34e4ad9b16f14b746e5153b"
      }
     },
     "4e32b3e6011d45449dda6012ed3b3759": {
      "model_module": "@jupyter-widgets/controls",
      "model_module_version": "1.5.0",
      "model_name": "ButtonStyleModel",
      "state": {}
     },
     "5016cec40ce14314b318702be4e01814": {
      "model_module": "@jupyter-widgets/controls",
      "model_module_version": "1.5.0",
      "model_name": "ButtonModel",
      "state": {
       "description": "Oracle",
       "layout": "IPY_MODEL_dfc5f94cb28247e295056387cfc312e0",
       "style": "IPY_MODEL_bb559465abb94d52a941d8d19d621257"
      }
     },
     "51b18c5e66d847ec96848e21ab3fecea": {
      "model_module": "@jupyter-widgets/controls",
      "model_module_version": "1.5.0",
      "model_name": "HTMLMathModel",
      "state": {
       "layout": "IPY_MODEL_8ab7ee5b52fa4120af5bfd15e6d3bdca",
       "style": "IPY_MODEL_1afc7a2e2ddf4a3eb07a401a57521a17",
       "value": "$$ |00\\rangle = |00\\rangle $$"
      }
     },
     "573b878af8074af1be9f7518134159e0": {
      "model_module": "@jupyter-widgets/controls",
      "model_module_version": "1.5.0",
      "model_name": "HTMLMathModel",
      "state": {
       "layout": "IPY_MODEL_c1ae5f8c0be44e4aa78297611b981d44",
       "style": "IPY_MODEL_9ee6a33cb7f2474e8b0fd6e6f3b77e20",
       "value": "$$ |00\\rangle = |00\\rangle $$"
      }
     },
     "5d9f9a51d2894593887347af508fca7c": {
      "model_module": "@jupyter-widgets/base",
      "model_module_version": "1.2.0",
      "model_name": "LayoutModel",
      "state": {}
     },
     "6025029d1745481fb904483595f24c5d": {
      "model_module": "@jupyter-widgets/base",
      "model_module_version": "1.2.0",
      "model_name": "LayoutModel",
      "state": {}
     },
     "62c622a547ae47c98c8c3e6d13984dac": {
      "model_module": "@jupyter-widgets/base",
      "model_module_version": "1.2.0",
      "model_name": "LayoutModel",
      "state": {}
     },
     "63e31212307441338ea9b3eb99891ce4": {
      "model_module": "@jupyter-widgets/controls",
      "model_module_version": "1.5.0",
      "model_name": "HBoxModel",
      "state": {
       "children": [
        "IPY_MODEL_10222059775b45cbb463ac9a5579b2ed",
        "IPY_MODEL_47fb7a3222604dc79f5f4005a7ea557c",
        "IPY_MODEL_df191589c4284b58b5ce51676e0e9732"
       ],
       "layout": "IPY_MODEL_7f6185f0aa2b473eb500d3a0c0e64cde"
      }
     },
     "691db6be93ec404ca8ebafb83caba929": {
      "model_module": "@jupyter-widgets/base",
      "model_module_version": "1.2.0",
      "model_name": "LayoutModel",
      "state": {}
     },
     "6d093e8f59fc4c6faf24a757cfb43de1": {
      "model_module": "@jupyter-widgets/controls",
      "model_module_version": "1.5.0",
      "model_name": "ButtonStyleModel",
      "state": {}
     },
     "6e452fe7f5fc48b7b38cb0737fc79a2e": {
      "model_module": "@jupyter-widgets/controls",
      "model_module_version": "1.5.0",
      "model_name": "ButtonStyleModel",
      "state": {}
     },
     "7ec74795e7a64da8b0897b97aac6697c": {
      "model_module": "@jupyter-widgets/base",
      "model_module_version": "1.2.0",
      "model_name": "LayoutModel",
      "state": {}
     },
     "7f6185f0aa2b473eb500d3a0c0e64cde": {
      "model_module": "@jupyter-widgets/base",
      "model_module_version": "1.2.0",
      "model_name": "LayoutModel",
      "state": {}
     },
     "812453ed3ad941609140840db1df56d4": {
      "model_module": "@jupyter-widgets/controls",
      "model_module_version": "1.5.0",
      "model_name": "DescriptionStyleModel",
      "state": {
       "description_width": ""
      }
     },
     "8607179df7194adab983a065d8a2812a": {
      "model_module": "@jupyter-widgets/base",
      "model_module_version": "1.2.0",
      "model_name": "LayoutModel",
      "state": {}
     },
     "887a8ad55c9847a1a5cf90ea0b7535d9": {
      "buffers": [
       {
        "data": "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",
        "encoding": "base64",
        "path": [
         "value"
        ]
       }
      ],
      "model_module": "@jupyter-widgets/controls",
      "model_module_version": "1.5.0",
      "model_name": "ImageModel",
      "state": {
       "layout": "IPY_MODEL_f11599b316a14307a699da091321edf7",
       "value": {}
      }
     },
     "8a3d60be628c411d9d0ac476f06562bc": {
      "model_module": "@jupyter-widgets/controls",
      "model_module_version": "1.5.0",
      "model_name": "ButtonStyleModel",
      "state": {}
     },
     "8ab7ee5b52fa4120af5bfd15e6d3bdca": {
      "model_module": "@jupyter-widgets/base",
      "model_module_version": "1.2.0",
      "model_name": "LayoutModel",
      "state": {}
     },
     "8abb3f36a2d54bdab678b99880d82471": {
      "buffers": [
       {
        "data": "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",
        "encoding": "base64",
        "path": [
         "value"
        ]
       }
      ],
      "model_module": "@jupyter-widgets/controls",
      "model_module_version": "1.5.0",
      "model_name": "ImageModel",
      "state": {
       "layout": "IPY_MODEL_3507733203674f69ae9eb6b0ec0d56ea",
       "value": {}
      }
     },
     "909b003d59674a9a99fbeb916e2fa8ed": {
      "model_module": "@jupyter-widgets/controls",
      "model_module_version": "1.5.0",
      "model_name": "HTMLMathModel",
      "state": {
       "layout": "IPY_MODEL_62c622a547ae47c98c8c3e6d13984dac",
       "style": "IPY_MODEL_812453ed3ad941609140840db1df56d4",
       "value": "$$ |00\\rangle = |00\\rangle $$"
      }
     },
     "9402e64dd07f43a09b7db9d793f00849": {
      "model_module": "@jupyter-widgets/base",
      "model_module_version": "1.2.0",
      "model_name": "LayoutModel",
      "state": {}
     },
     "9ee6a33cb7f2474e8b0fd6e6f3b77e20": {
      "model_module": "@jupyter-widgets/controls",
      "model_module_version": "1.5.0",
      "model_name": "DescriptionStyleModel",
      "state": {
       "description_width": ""
      }
     },
     "a3ac39600cbe45fcbc5c1578831c8f0c": {
      "model_module": "@jupyter-widgets/base",
      "model_module_version": "1.2.0",
      "model_name": "LayoutModel",
      "state": {}
     },
     "a902833d59b645a4b70754efd0d89d27": {
      "model_module": "@jupyter-widgets/controls",
      "model_module_version": "1.5.0",
      "model_name": "ButtonModel",
      "state": {
       "description": "Clear",
       "layout": "IPY_MODEL_effc5b0e9ff34d31bf0b8bd674108ea4",
       "style": "IPY_MODEL_b93384e42d6744acad9fba74b264ccfd"
      }
     },
     "a9a5ac5910f445a6a52d268d19bb116f": {
      "model_module": "@jupyter-widgets/controls",
      "model_module_version": "1.5.0",
      "model_name": "HBoxModel",
      "state": {
       "children": [
        "IPY_MODEL_0bcf5e73535649aab44ce71325bfe8b8",
        "IPY_MODEL_058bbe06d33e408dbf44ee2994944e9b",
        "IPY_MODEL_edf39c573e3e49f2a91b5f7a0fc9be21"
       ],
       "layout": "IPY_MODEL_a3ac39600cbe45fcbc5c1578831c8f0c"
      }
     },
     "aabb2ed302a540b0bad4c4fbf1ca4f6f": {
      "model_module": "@jupyter-widgets/base",
      "model_module_version": "1.2.0",
      "model_name": "LayoutModel",
      "state": {}
     },
     "abf8347e870f4f618df66cffc9fa16b4": {
      "model_module": "@jupyter-widgets/controls",
      "model_module_version": "1.5.0",
      "model_name": "ButtonModel",
      "state": {
       "description": "Clear",
       "layout": "IPY_MODEL_fab33d5692c3439b9729e5ae17d00bdd",
       "style": "IPY_MODEL_cb9304d2c2fa465d86c53663b23b0f7d"
      }
     },
     "b8d348e477cc45469fde8cb2fea8cf4b": {
      "model_module": "@jupyter-widgets/base",
      "model_module_version": "1.2.0",
      "model_name": "LayoutModel",
      "state": {}
     },
     "b9073684123c42e6a352a90f3dab90f5": {
      "model_module": "@jupyter-widgets/controls",
      "model_module_version": "1.5.0",
      "model_name": "ButtonStyleModel",
      "state": {}
     },
     "b93384e42d6744acad9fba74b264ccfd": {
      "model_module": "@jupyter-widgets/controls",
      "model_module_version": "1.5.0",
      "model_name": "ButtonStyleModel",
      "state": {}
     },
     "bb559465abb94d52a941d8d19d621257": {
      "model_module": "@jupyter-widgets/controls",
      "model_module_version": "1.5.0",
      "model_name": "ButtonStyleModel",
      "state": {}
     },
     "bc6a7a1cf34e4ad9b16f14b746e5153b": {
      "model_module": "@jupyter-widgets/controls",
      "model_module_version": "1.5.0",
      "model_name": "ButtonStyleModel",
      "state": {}
     },
     "c1ae5f8c0be44e4aa78297611b981d44": {
      "model_module": "@jupyter-widgets/base",
      "model_module_version": "1.2.0",
      "model_name": "LayoutModel",
      "state": {}
     },
     "c6ed3a199d3443218e41f8c843b2ea8f": {
      "buffers": [
       {
        "data": "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",
        "encoding": "base64",
        "path": [
         "value"
        ]
       }
      ],
      "model_module": "@jupyter-widgets/controls",
      "model_module_version": "1.5.0",
      "model_name": "ImageModel",
      "state": {
       "layout": "IPY_MODEL_aabb2ed302a540b0bad4c4fbf1ca4f6f",
       "value": {}
      }
     },
     "c795c4de6bd64b56a75cad55c0a3f340": {
      "model_module": "@jupyter-widgets/controls",
      "model_module_version": "1.5.0",
      "model_name": "HTMLMathModel",
      "state": {
       "layout": "IPY_MODEL_40135b052efc4a77b1bee9a4535cea66",
       "style": "IPY_MODEL_ee0b7c28b0744668af775712b02067b6",
       "value": "$$ |00\\rangle = |00\\rangle $$"
      }
     },
     "cb9304d2c2fa465d86c53663b23b0f7d": {
      "model_module": "@jupyter-widgets/controls",
      "model_module_version": "1.5.0",
      "model_name": "ButtonStyleModel",
      "state": {}
     },
     "cc853918ec8a4b0abfd0c93fecebca03": {
      "model_module": "@jupyter-widgets/controls",
      "model_module_version": "1.5.0",
      "model_name": "ButtonModel",
      "state": {
       "description": "Oracle",
       "layout": "IPY_MODEL_7ec74795e7a64da8b0897b97aac6697c",
       "style": "IPY_MODEL_f202fa464172435f8019d0a5deabb198"
      }
     },
     "ce6c2c5dd63e438bb2bd3a9f2db9d263": {
      "model_module": "@jupyter-widgets/controls",
      "model_module_version": "1.5.0",
      "model_name": "ButtonModel",
      "state": {
       "description": "H⊗ⁿ",
       "layout": "IPY_MODEL_e6346313fa744685bf717d5eeb53c3ee",
       "style": "IPY_MODEL_b9073684123c42e6a352a90f3dab90f5"
      }
     },
     "d0bd8a6f3ec34cb8b4127288de163add": {
      "model_module": "@jupyter-widgets/controls",
      "model_module_version": "1.5.0",
      "model_name": "HBoxModel",
      "state": {
       "children": [
        "IPY_MODEL_3205d9a912084984ba0c8cd353236ff2",
        "IPY_MODEL_cc853918ec8a4b0abfd0c93fecebca03",
        "IPY_MODEL_a902833d59b645a4b70754efd0d89d27"
       ],
       "layout": "IPY_MODEL_691db6be93ec404ca8ebafb83caba929"
      }
     },
     "df191589c4284b58b5ce51676e0e9732": {
      "model_module": "@jupyter-widgets/controls",
      "model_module_version": "1.5.0",
      "model_name": "ButtonModel",
      "state": {
       "description": "Clear",
       "layout": "IPY_MODEL_32af37e4c90f41d6939c6b257b21a711",
       "style": "IPY_MODEL_6d093e8f59fc4c6faf24a757cfb43de1"
      }
     },
     "dfc5f94cb28247e295056387cfc312e0": {
      "model_module": "@jupyter-widgets/base",
      "model_module_version": "1.2.0",
      "model_name": "LayoutModel",
      "state": {}
     },
     "e452a076f6d349c48138291c69e258c4": {
      "buffers": [
       {
        "data": "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",
        "encoding": "base64",
        "path": [
         "value"
        ]
       }
      ],
      "model_module": "@jupyter-widgets/controls",
      "model_module_version": "1.5.0",
      "model_name": "ImageModel",
      "state": {
       "layout": "IPY_MODEL_5d9f9a51d2894593887347af508fca7c",
       "value": {}
      }
     },
     "e6346313fa744685bf717d5eeb53c3ee": {
      "model_module": "@jupyter-widgets/base",
      "model_module_version": "1.2.0",
      "model_name": "LayoutModel",
      "state": {}
     },
     "edf39c573e3e49f2a91b5f7a0fc9be21": {
      "model_module": "@jupyter-widgets/controls",
      "model_module_version": "1.5.0",
      "model_name": "ButtonModel",
      "state": {
       "description": "Clear",
       "layout": "IPY_MODEL_8607179df7194adab983a065d8a2812a",
       "style": "IPY_MODEL_8a3d60be628c411d9d0ac476f06562bc"
      }
     },
     "ee0b7c28b0744668af775712b02067b6": {
      "model_module": "@jupyter-widgets/controls",
      "model_module_version": "1.5.0",
      "model_name": "DescriptionStyleModel",
      "state": {
       "description_width": ""
      }
     },
     "efda6d1858bf44dc97e02f650adce5bd": {
      "model_module": "@jupyter-widgets/base",
      "model_module_version": "1.2.0",
      "model_name": "LayoutModel",
      "state": {}
     },
     "effc5b0e9ff34d31bf0b8bd674108ea4": {
      "model_module": "@jupyter-widgets/base",
      "model_module_version": "1.2.0",
      "model_name": "LayoutModel",
      "state": {}
     },
     "f11599b316a14307a699da091321edf7": {
      "model_module": "@jupyter-widgets/base",
      "model_module_version": "1.2.0",
      "model_name": "LayoutModel",
      "state": {}
     },
     "f202fa464172435f8019d0a5deabb198": {
      "model_module": "@jupyter-widgets/controls",
      "model_module_version": "1.5.0",
      "model_name": "ButtonStyleModel",
      "state": {}
     },
     "fab33d5692c3439b9729e5ae17d00bdd": {
      "model_module": "@jupyter-widgets/base",
      "model_module_version": "1.2.0",
      "model_name": "LayoutModel",
      "state": {}
     }
    },
    "version_major": 2,
    "version_minor": 0
   }
  }
 },
 "nbformat": 4,
 "nbformat_minor": 5
}
