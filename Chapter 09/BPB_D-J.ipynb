{
 "cells": [
  {
   "cell_type": "markdown",
   "id": "aeead231",
   "metadata": {},
   "source": [
    "## Deutsch-Jozsa algorithm"
   ]
  },
  {
   "cell_type": "code",
   "execution_count": 1,
   "id": "f2a814c4",
   "metadata": {},
   "outputs": [],
   "source": [
    "# initialization\n",
    "import numpy as np\n",
    "# importing Qiskit\n",
    "from qiskit import IBMQ, Aer, assemble\n",
    "from qiskit.providers.ibmq import least_busy\n",
    "from qiskit import QuantumCircuit, transpile\n",
    "# import basic plot tools\n",
    "from qiskit.visualization import plot_histogram"
   ]
  },
  {
   "cell_type": "code",
   "execution_count": 2,
   "id": "89c04358",
   "metadata": {},
   "outputs": [],
   "source": [
    "from enum import Enum\n",
    "# Define an enumeration for the function types\n",
    "class FunctionType(Enum):\n",
    "    CONSTANT = \"constant\"\n",
    "    BALANCED = \"balanced\""
   ]
  },
  {
   "cell_type": "code",
   "execution_count": 3,
   "id": "5c283cfc",
   "metadata": {},
   "outputs": [],
   "source": [
    "def boolean_function(qc, n, type):    \n",
    "    for qubit in range(n):\n",
    "        # 'type' indicates whether the function is 'constant' or \n",
    "        # 'balanced'\n",
    "        if type == FunctionType.CONSTANT.value:\n",
    "            # Apply the identity operation to the qubit (no change) \n",
    "            # for constant functions\n",
    "            qc.id(qubit)\n",
    "        elif type == FunctionType.BALANCED.value:\n",
    "            # Apply a Controlled-NOT (CNOT) gate for balanced \n",
    "            # functions\n",
    "            qc.cx(qubit, n)\n",
    "        else:\n",
    "            raise ValueError(\"Invalid function type. Choose 'CONSTANT' or 'BALANCED'.\")\n",
    "            qc.cx(qubit, n)\n",
    "\n",
    "    return qc"
   ]
  },
  {
   "cell_type": "code",
   "execution_count": 16,
   "id": "25805d78",
   "metadata": {},
   "outputs": [],
   "source": [
    "n = 2\n",
    "# Or FunctionType.CONSTANT.value\n",
    "f_x = FunctionType.BALANCED.value"
   ]
  },
  {
   "cell_type": "code",
   "execution_count": 17,
   "id": "38dd1fa9",
   "metadata": {},
   "outputs": [],
   "source": [
    "# Create an oracle quantum circuit with n+1 qubits\n",
    "oracle = QuantumCircuit(n+1)\\\n",
    "# Define the binary string that represents the function values\n",
    "b_str = \"000\"\n",
    "# Place X-gates on qubits corresponding to '1' in b_str\n",
    "for qubit in range(len(b_str)):\n",
    "    if b_str[qubit] == '1':\n",
    "        # Apply an X gate (bit-flip) to the qubit if the \n",
    "        # corresponding bit is '1'\n",
    "        oracle.x(qubit)\n",
    "# Use a barrier to visually separate sections of the circuit\n",
    "oracle.barrier()\n",
    "# Apply the boolean function f_x to the oracle circuit\n",
    "oracle = boolean_function(oracle, n, f_x)\n",
    "# Use another barrier for clarity before the next section\n",
    "oracle.barrier()\n",
    "# Place X-gates on qubits corresponding to '1' in b_str after applying \n",
    "# the boolean function\n",
    "for qubit in range(len(b_str)):\n",
    "    if b_str[qubit] == '1':\n",
    "        # Apply an X gate (bit-flip) to the qubit again if the \n",
    "        # corresponding bit is '1'\n",
    "        oracle.x(qubit)"
   ]
  },
  {
   "cell_type": "code",
   "execution_count": 18,
   "id": "103a3ec0",
   "metadata": {},
   "outputs": [
    {
     "data": {
      "image/png": "[encoded data removed]",
      "text/plain": [
       "<Figure size 956.385x367.889 with 1 Axes>"
      ]
     },
     "execution_count": 18,
     "metadata": {},
     "output_type": "execute_result"
    }
   ],
   "source": [
    "# Create a quantum circuit with n+1 qubits and n classical bits\n",
    "dj_circuit = QuantumCircuit(n+1, n)\n",
    "# Apply Hadamard gates to the first n qubits to create superposition\n",
    "for qubit in range(n):\n",
    "    dj_circuit.h(qubit)\n",
    "# Prepare the last qubit in the |-⟩ state\n",
    "dj_circuit.x(n) # Apply an X gate to flip the state to |1⟩\n",
    "dj_circuit.h(n) # Apply a Hadamard gate to transform |1⟩ to |-⟩\n",
    "# Add the oracle to the quantum circuit\n",
    "dj_circuit = dj_circuit.compose(oracle)\n",
    "# Repeat Hadamard gates on the first n qubits after the oracle\n",
    "for qubit in range(n):\n",
    "    dj_circuit.h(qubit)\n",
    "# Add a barrier for better visualization of the circuit structure\n",
    "dj_circuit.barrier()\n",
    "# Measure the first n qubits and store the results in corresponding \n",
    "# classical bits\n",
    "for i in range(n):\n",
    "    dj_circuit.measure(i, i)\n",
    "# Display the quantum circuit\n",
    "dj_circuit.draw('mpl')"
   ]
  },
  {
   "cell_type": "code",
   "execution_count": null,
   "id": "37847cd3",
   "metadata": {},
   "outputs": [],
   "source": []
  },
  {
   "cell_type": "markdown",
   "id": "45591374",
   "metadata": {},
   "source": [
    "## On Simulator"
   ]
  },
  {
   "cell_type": "code",
   "execution_count": 19,
   "id": "e9d76be9",
   "metadata": {},
   "outputs": [],
   "source": [
    "sim = Aer.get_backend('aer_simulator')\n",
    "# we need to mMake a copy of the circuit with the 'save_statevector'\n",
    "# instruction to run on the Aer simulator\n",
    "dj_circuit_sim = dj_circuit.copy()\n",
    "dj_circuit_sim.save_statevector()\n",
    "qobj = assemble(dj_circuit_sim)"
   ]
  },
  {
   "cell_type": "code",
   "execution_count": 20,
   "id": "3941acef",
   "metadata": {},
   "outputs": [],
   "source": [
    "result = sim.run(qobj).result()"
   ]
  },
  {
   "cell_type": "code",
   "execution_count": 21,
   "id": "65be2d9f",
   "metadata": {
    "scrolled": true
   },
   "outputs": [
    {
     "data": {
      "image/png": "[encoded data removed]",
      "text/plain": [
       "<Figure size 700x500 with 1 Axes>"
      ]
     },
     "execution_count": 21,
     "metadata": {},
     "output_type": "execute_result"
    }
   ],
   "source": [
    "counts = result.get_counts()\n",
    "plot_histogram(counts)"
   ]
  },
  {
   "cell_type": "code",
   "execution_count": null,
   "id": "27726449",
   "metadata": {},
   "outputs": [],
   "source": []
  },
  {
   "cell_type": "markdown",
   "id": "b5f63a85",
   "metadata": {},
   "source": [
    "## On Real IBM quantum device"
   ]
  },
  {
   "cell_type": "code",
   "execution_count": null,
   "id": "ea26982b",
   "metadata": {},
   "outputs": [],
   "source": [
    "# Load the IBM Quantum account for access to the available resources\n",
    "IBMQ.load_account()\n",
    "# Retrieve the IBM Quantum provider for the specified hub\n",
    "provider = IBMQ.get_provider(hub='ibm-q')\n",
    "# Find the least busy backend that can accommodate the required \n",
    "# number of qubits (n+1)\n",
    "backend = least_busy(provider.backends(filters=lambda x:   \n",
    "  x.configuration().n_qubits >= (n+1) and\n",
    "  not x.configuration().simulator and x.status().operational==True))\n",
    "print(\"least busy backend: \", backend)"
   ]
  },
  {
   "cell_type": "code",
   "execution_count": null,
   "id": "a81f05d8",
   "metadata": {},
   "outputs": [],
   "source": [
    "# Run our circuit on the least busy backend. Monitor the execution of the job in the queue\n",
    "from qiskit.tools.monitor import job_monitor\n",
    "# Transpile the circuit for the specified backend with the highest \n",
    "# optimization level\n",
    "transpiled_dj_circuit = transpile(dj_circuit, backend, optimization_level=3)\n",
    "# Execute the transpiled circuit on the backend\n",
    "job = backend.run(transpiled_dj_circuit)\n",
    "# Monitor the job status at 2-second intervals\n",
    "job_monitor(job, interval=2)"
   ]
  },
  {
   "cell_type": "code",
   "execution_count": null,
   "id": "efcd55af",
   "metadata": {},
   "outputs": [],
   "source": [
    "# Get the results of the computation\n",
    "results = job.result()\n",
    "# Retrieve the counts of measurement outcomes\n",
    "answer = results.get_counts()\n",
    "# Plot a histogram of the measurement results\n",
    "plot_histogram(answer)"
   ]
  }
 ],
 "metadata": {
  "kernelspec": {
   "display_name": "Python 3 (ipykernel)",
   "language": "python",
   "name": "python3"
  },
  "language_info": {
   "codemirror_mode": {
    "name": "ipython",
    "version": 3
   },
   "file_extension": ".py",
   "mimetype": "text/x-python",
   "name": "python",
   "nbconvert_exporter": "python",
   "pygments_lexer": "ipython3",
   "version": "3.9.16"
  }
 },
 "nbformat": 4,
 "nbformat_minor": 5
}
