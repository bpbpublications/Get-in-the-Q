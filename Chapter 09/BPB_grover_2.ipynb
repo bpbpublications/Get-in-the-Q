{
 "cells": [
  {
   "cell_type": "code",
   "execution_count": 1,
   "id": "b966247b",
   "metadata": {},
   "outputs": [],
   "source": [
    "#initialization\n",
    "import matplotlib.pyplot as plt\n",
    "import numpy as np\n",
    "\n",
    "# importing Qiskit\n",
    "from qiskit import  Aer, assemble, transpile\n",
    "from qiskit import QuantumCircuit, ClassicalRegister, QuantumRegister\n",
    "\n",
    "# import basic plot tools\n",
    "from qiskit.visualization import plot_histogram"
   ]
  },
  {
   "cell_type": "code",
   "execution_count": 2,
   "id": "67ba7492",
   "metadata": {},
   "outputs": [],
   "source": [
    "# This function applies the S gate (phase shift gate) to qubits\n",
    "# in a quantum circuit depending on the provided binary \n",
    "# 'state' string. It modifies the first or second qubit\n",
    "# based on the specific input state\n",
    "def s_gate(qc, state):\n",
    "    # For '01', it applies the S gate to the first qubit\n",
    "    # and the identity gate to the second.\n",
    "    if state == '01':\n",
    "        qc.s(qreg_q[0])\n",
    "        qc.i(qreg_q[1])\n",
    "    # For '10', it applies the S gate to the second qubit\n",
    "    # and the identity gate to the first.\n",
    "    elif state == '10':\n",
    "        qc.s(qreg_q[1])\n",
    "        qc.i(qreg_q[0])\n",
    "    # For '00', it applies the S gate to both qubits \n",
    "    # simultaneously.\n",
    "    elif state == '00':\n",
    "        qc.s([qreg_q[0], qreg_q[1]])\n",
    "    # If the state is not recognized, no operations are\n",
    "    # performed, and the circuit is returned unchanged.\n",
    "    else:\n",
    "        #qc.cz(0,1)\n",
    "        pass\n",
    "    return qc"
   ]
  },
  {
   "cell_type": "code",
   "execution_count": 3,
   "id": "905bcde8",
   "metadata": {},
   "outputs": [],
   "source": [
    "# Define the Oracle function\n",
    "def oracle(qc, state):\n",
    "    # Call s_gate function with the state passed to this function\n",
    "    qc = s_gate(qc, state)\n",
    "    # Apply controlled Z from qubit 0 to qubit 1\n",
    "    qc.cz(0,1)\n",
    "    qc = s_gate(qc, state)\n",
    "    return qc"
   ]
  },
  {
   "cell_type": "code",
   "execution_count": 4,
   "id": "efbe7791",
   "metadata": {},
   "outputs": [],
   "source": [
    "# Define the diffusion function\n",
    "def diffusion(qc):\n",
    "    # Apply Hadamard gate to create superposition on both qubits\n",
    "    qc.h([0,1])\n",
    "    # Apply Z gate to both qubits\n",
    "    qc.z([0,1])\n",
    "    # Apply controlled Z from qubit 0 to qubit 1\n",
    "    qc.cz(0,1)\n",
    "    # Apply Hadamard on both qubits\n",
    "    qc.h([0,1])\n",
    "    return qc"
   ]
  },
  {
   "cell_type": "code",
   "execution_count": 5,
   "id": "6d4e1d80",
   "metadata": {},
   "outputs": [
    {
     "data": {
      "text/plain": [
       "<qiskit.circuit.instructionset.InstructionSet at 0x114dc52baf0>"
      ]
     },
     "execution_count": 5,
     "metadata": {},
     "output_type": "execute_result"
    }
   ],
   "source": [
    "qreg_q = QuantumRegister(2, 'q')\n",
    "creg_c = ClassicalRegister(2, 'c')\n",
    "grover_circuit = QuantumCircuit(qreg_q, creg_c)\n",
    "# Apply Hadamard to all the three qubits to\n",
    "# create superposition\n",
    "grover_circuit.h(qreg_q[0])\n",
    "grover_circuit.h(qreg_q[1])"
   ]
  },
  {
   "cell_type": "code",
   "execution_count": 6,
   "id": "b905ddcf",
   "metadata": {},
   "outputs": [
    {
     "data": {
      "image/png": "[encoded data removed]",
      "text/plain": [
       "<Figure size 788.961x284.278 with 1 Axes>"
      ]
     },
     "execution_count": 6,
     "metadata": {},
     "output_type": "execute_result"
    }
   ],
   "source": [
    "# Apply Oracle with the state to be searched - ‘10’.\n",
    "# Change the state value for different search states.\n",
    "grover_circuit = oracle(grover_circuit, state='10')   ## change the state value for different search states\n",
    "# Apply diffusion logic\n",
    "grover_circuit = diffusion(grover_circuit)\n",
    "# Draw the circuit\n",
    "grover_circuit.draw(output='mpl')"
   ]
  },
  {
   "cell_type": "code",
   "execution_count": 7,
   "id": "c8d53fb8",
   "metadata": {},
   "outputs": [],
   "source": [
    "sim = Aer.get_backend('aer_simulator')\n",
    "# we need to mMake a copy of the circuit with the 'save_statevector'\n",
    "# instruction to run on the Aer simulator\n",
    "grover_circuit_sim = grover_circuit.copy()\n",
    "grover_circuit_sim.save_statevector()\n",
    "qobj = assemble(grover_circuit_sim)"
   ]
  },
  {
   "cell_type": "code",
   "execution_count": 8,
   "id": "5e4f446a",
   "metadata": {},
   "outputs": [
    {
     "data": {
      "text/latex": [
       "$\\displaystyle \n",
       "$$ |\\psi\\rangle =\\begin{bmatrix}\n",
       "0 \\\\\n",
       "0 \\\\\n",
       "0 \\\\\n",
       "0\\end{bmatrix} $"
      ],
      "text/plain": [
       "<IPython.core.display.Math object>"
      ]
     },
     "metadata": {},
     "output_type": "display_data"
    },
    {
     "data": {
      "text/plain": [
       "(None,\n",
       " Statevector([0.+2.46519033e-32j, 0.+2.46519033e-32j, 0.+2.46519033e-32j,\n",
       "              0.+2.46519033e-32j],\n",
       "             dims=(2, 2)))"
      ]
     },
     "execution_count": 8,
     "metadata": {},
     "output_type": "execute_result"
    }
   ],
   "source": [
    "result = sim.run(qobj).result()\n",
    "statevec = result.get_statevector()\n",
    "from qiskit_textbook.tools import vector2latex\n",
    "# Display the state vector\n",
    "vector2latex(statevec, pretext=\"|\\\\psi\\\\rangle =\"), statevec"
   ]
  },
  {
   "cell_type": "code",
   "execution_count": 9,
   "id": "baecb42e",
   "metadata": {},
   "outputs": [],
   "source": [
    "# Measure the states of qubits 0 and 1 in\n",
    "# the Grover circuit and store the results in\n",
    "# classical bits 0, 1\n",
    "grover_circuit.measure([0,1],[0,1])\n",
    "aer_sim = Aer.get_backend('aer_simulator')\n",
    "qobj = assemble(grover_circuit)\n",
    "result = aer_sim.run(qobj, shots=1000).result()"
   ]
  },
  {
   "cell_type": "code",
   "execution_count": 10,
   "id": "6815488c",
   "metadata": {},
   "outputs": [
    {
     "data": {
      "image/png": "[encoded data removed]",
      "text/plain": [
       "<Figure size 700x500 with 1 Axes>"
      ]
     },
     "execution_count": 10,
     "metadata": {},
     "output_type": "execute_result"
    }
   ],
   "source": [
    "counts = result.get_counts()\n",
    "plot_histogram(counts)"
   ]
  },
  {
   "cell_type": "code",
   "execution_count": null,
   "id": "fcf7067c",
   "metadata": {},
   "outputs": [],
   "source": []
  }
 ],
 "metadata": {
  "kernelspec": {
   "display_name": "Python 3 (ipykernel)",
   "language": "python",
   "name": "python3"
  },
  "language_info": {
   "codemirror_mode": {
    "name": "ipython",
    "version": 3
   },
   "file_extension": ".py",
   "mimetype": "text/x-python",
   "name": "python",
   "nbconvert_exporter": "python",
   "pygments_lexer": "ipython3",
   "version": "3.9.16"
  },
  "widgets": {
   "application/vnd.jupyter.widget-state+json": {
    "state": {},
    "version_major": 2,
    "version_minor": 0
   }
  }
 },
 "nbformat": 4,
 "nbformat_minor": 5
}
